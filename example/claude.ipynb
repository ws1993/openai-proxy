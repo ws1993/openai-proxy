{
 "cells": [
  {
   "cell_type": "markdown",
   "metadata": {},
   "source": [
    "# Python 调用 openai-proxy 中的 Claude 服务"
   ]
  },
  {
   "cell_type": "code",
   "execution_count": 1,
   "metadata": {},
   "outputs": [],
   "source": [
    "# 配置变量\n",
    "org_uuid =\"xxxxxxxxxxxxxxxxxxxxxxxxxx\"\n",
    "sessionKey ='sk-xxxxxxxxxxxxxxxxxxx' \n",
    "conversation_uuid =\"xxxxxxxxxxxxxxxxxxxxxxxxxxxxxxx\""
   ]
  },
  {
   "cell_type": "code",
   "execution_count": null,
   "metadata": {},
   "outputs": [],
   "source": [
    "# 获取全部会话\n",
    "import requests\n",
    "url = 'https://openai.aihey.cc/claude/organizations/{}/chat_conversations'.format(org_uuid)\n",
    "\n",
    "headers = {\n",
    "    \"Accept\": \"application/json\",\n",
    "    \"Content-Type\": \"application/json\",\n",
    "    \"Cookie\": f'sessionKey={sessionKey}',\n",
    "}\n",
    "response = requests.request(\"GET\", url, headers=headers)\n",
    "print(response.text)"
   ]
  },
  {
   "cell_type": "code",
   "execution_count": 3,
   "metadata": {},
   "outputs": [
    {
     "data": {
      "text/plain": [
       "' TypeScript 是微软开发的自由和开源的编程语言,它是 JavaScript 的一个超集,扩展了 JavaScript 的语法。\\n\\nTypeScript 的主要特性包括:\\n\\n1. 可选的静态类型\\n\\nTypeScript 在 JavaScript 引入了可选的静态类型检查,提供了比 JavaScript 更严格的程序结构。这可以提前发现许多运行时错误,有助于构建健壮的组件。\\n\\n2. 支持 ES6 以上特性\\n\\nTypeScript 实现了 ES6 以上的许多新特性,如类、模块、箭头函数、泛型等。这简化了开发工作,使代码更具可读性和可维护性。\\n\\n3. 面向对象编程\\n\\nTypeScript 支持面向对象编程,有接口、类、继承等特性,可以实现复杂系统的构建。\\n\\n4. 强大的 IDE 支持 \\n\\nTypeScript 提供了优秀的 IDE 集成功能,如代码补全、接口提示、跳转到定义等,可以提高开发效率。\\n\\n5. 编译为纯净、简洁的 JavaScript 代码\\n\\nTypeScript 编译后的代码可以运行在任何支持 JavaScript 的平台上,编译去除了类型系统相关内容。\\n\\n6. 采用 NPMT、Webpack 等构建流程\\n\\nTypeScript 完全兼容 JavaScript 的工具链和生态系统,可以直接复用现有的构建流程。\\n\\n总体来说,TypeScript 建立在 JavaScript 的语法基础上,添加了可选的静态类型检查,使代码更稳定可靠。它极大地提升了在大型项目中的开发效率和可维护性。'"
      ]
     },
     "execution_count": 3,
     "metadata": {},
     "output_type": "execute_result"
    }
   ],
   "source": [
    "# 基于 append_message 接口进行请求\n",
    "import requests\n",
    "import json\n",
    "url = 'https://openai.aihey.cc/claude/append_message'\n",
    "\n",
    "payload = json.dumps({\n",
    "  \"completion\": {\n",
    "    \"prompt\": \"介绍一下typescript\",\n",
    "    \"timezone\": \"Asia/Shanghai\",\n",
    "    \"model\": \"claude-2\"\n",
    "  },\n",
    "  \"organization_uuid\": org_uuid,\n",
    "  \"conversation_uuid\": conversation_uuid,\n",
    "  \"text\": \"介绍一下typescript\",\n",
    "  \"attachments\": []\n",
    "})\n",
    "\n",
    "headers = {\n",
    "    \"Accept\": \"application/json\",\n",
    "    \"Content-Type\": \"application/json;charset=utf-8\",\n",
    "    \"Cookie\": f'sessionKey={sessionKey}',\n",
    "}\n",
    "\n",
    "response = requests.request(\"POST\", url, headers=headers, data=payload)\n",
    "response.content.decode('utf-8')"
   ]
  },
  {
   "cell_type": "code",
   "execution_count": null,
   "metadata": {},
   "outputs": [],
   "source": [
    "# 使用 openai sdk\n",
    "%pip install openai"
   ]
  },
  {
   "cell_type": "code",
   "execution_count": 4,
   "metadata": {},
   "outputs": [
    {
     "name": "stdout",
     "output_type": "stream",
     "text": [
      " 这里是关于TypeScript历史的一个600字描述:\n",
      "\n",
      "TypeScript是一种由微软开发的开源编程语言。它是JavaScript的超集,提供了可选的静态类型和基于类的面向对象编程。 \n",
      "\n",
      "TypeScript于2012年10月由微软程序员安德斯·海尔斯伯格公开发布。起初它是作为微软内部项目开发,目的是改进JavaScript在大型应用中的开发体验。由于JavaScript缺乏类型检查,随着应用规模的增长,会出现更多难以跟踪的错误。TypeScript通过添加可选的静态类型来解决这个问题。\n",
      "\n",
      "第一个公开版本0.8于2012年10月发布。此后TypeScript快速发展,吸引了越来越多的开发者。到了2013年6月,TypeScript已经成为开源项目,代码托管在GitHub上。2014年,Angular2宣布将使用TypeScript构建。这给TypeScript带来了巨大的影响力。\n",
      "\n",
      "经过几年的发展,TypeScript已经成为前端开发的主流选择之一。它拥有活跃的社区,并得到了Microsoft、Google、Apple等大公司的广泛采用。许多流行的JavaScript框架如Angular、React和Vue也提供了TypeScript支持。\n",
      "\n",
      "TypeScript编译器可以将TypeScript代码转换为纯JavaScript代码,这让它可以运行在任何支持JavaScript的平台上。它提供的静态类型检查可以提高代码质量,是它受欢迎的主要原因之一。到2020年,TypeScript已经成为GitHub上最受欢迎的编程语言之一。\n",
      "\n",
      "总的来说,TypeScript通过丰富JavaScript的表达能力,让前端开发更加高效、可维护。它的兴起改变了JavaScript社区的面貌,被证明是一种优秀的编程语言。\n"
     ]
    }
   ],
   "source": [
    "# 类似 openai gpt 接口请求格式\n",
    "import openai\n",
    "openai.api_base = 'https://openai.aihey.cc/claude/{}/v1'.format(org_uuid)\n",
    "openai.api_key = sessionKey\n",
    "\n",
    "completion = openai.ChatCompletion.create(model=\"gpt-3.5-turbo\", \n",
    "                                          messages=[{\"role\": \"user\", \"content\": \"你知道 typescript 历史么，请用 600 字描述\"}])\n",
    "print(completion.choices[0].message.content)"
   ]
  },
  {
   "cell_type": "code",
   "execution_count": 6,
   "metadata": {},
   "outputs": [
    {
     "data": {
      "text/plain": [
       "' 好的,我尽力讲一个五百字的笑话给你听:\\n\\n小王是一个爱开玩笑的人。一天,他对他的朋友小李说:“我昨天晚上做了一个很奇怪的梦,梦见一只会说话的乌龟给我讲了一个超级无聊的五百字笑话,我一点也不觉得有趣。” 小李觉得很好奇,就问小王:“它讲的是什么笑话啊?” 小王想了一会儿说:“它先自我介绍说它是一只会说人话的乌龟,住在一个湖里。然后它就开始絮絮叨叨讲它的日常生活,比如它每天早上起床游泳拉伸运动,中午在湖边晒太阳午休,晚上数星星入睡。它还说自己最喜欢的食物是莲藕和菱角。我听得脑袋都大了,觉得超无聊。” 小李听后哈哈大笑说:“这确实听起来很没意思,也太长了,一点都不好笑!” 小王撇撇嘴说:“我就知道它讲的笑话很无聊,所以我才不想告诉你嘛。”\\n\\n以上大概五百字,我尽我所能编造一个无聊又长的笑话,希望您能被逗乐或得到一点娱乐:)'"
      ]
     },
     "execution_count": 6,
     "metadata": {},
     "output_type": "execute_result"
    }
   ],
   "source": [
    "# 类似 openai gpt 接口请求格式，流式输出\n",
    "import openai\n",
    "openai.api_base = 'https://openai.aihey.cc/claude/{}/v1'.format(org_uuid)\n",
    "openai.api_key = sessionKey\n",
    "\n",
    "response = openai.ChatCompletion.create(model=\"gpt-3.5-turbo\", \n",
    "                                        messages=[{\"role\": \"user\", \"content\": \"讲一个五百字的笑话\"}], \n",
    "                                        stream=True)\n",
    "result = ''\n",
    "for chunk in response:\n",
    "    try:\n",
    "        result += chunk['choices'][0]['delta']['content']\n",
    "    except:\n",
    "        continue\n",
    "result"
   ]
  },
  {
   "cell_type": "code",
   "execution_count": 7,
   "metadata": {},
   "outputs": [
    {
     "name": "stdout",
     "output_type": "stream",
     "text": [
      " TypeScript自2012年问世以来,在过去的10年里经历了积极的发展,已经成为前端开发的主流选择之一。\n",
      "\n",
      "TypeScript是由Microsoft开发的开源编程语言。其首次代码提交可追溯至2012年10月,由Anders Hejlsberg领导的TypeScript团队进行开发。次年6月,TypeScript在Apache许可证2.0版下开源。\n",
      "\n",
      "早期版本主要添加了类、模块、接口、泛型、类型注解等面向对象的语法结构。这些设计吸收了C#等语言的经验,目的是让JavaScript开发大型应用更加高效。随后引入了ES6语法特性的支持,成为当时最完整的ES6运行时。\n",
      "\n",
      "到了2015年后,TypeScript逐步应用于微软产品与服务当中,如Visual Studio Code、.NET等,证明了其开发大规模项目的实用性。2016年,Angular框架发布新版本Angular 2时,选择以TypeScript作为首选开发语言。这进一步增强了TypeScript在前端社区的影响力。\n",
      "\n",
      "在2017年8月发布的2.4版本中,TypeScript支持了对象rest和spread操作符,使代码更简洁。2018年3月的2.8版本增加了条件类型等特性,扩展了类型系统的表达力。2019年8月的3.6版本则增加了可选链操作符等提案,在语法上进一步兼容了ES最新草案。\n",
      "\n",
      "进入2020年代后,TypeScript已经成为前端主流工具之一。截至2022年5月,其GitHub仓库拥有超过8.2万颗星,每月下载量超过1600万次。许多知名开源项目如Angular、Vue、React都提供了TypeScript Binding,以利用其静态类型检查和最新语言特性支持,提高产品质量与开发效率。\n",
      "\n",
      "可以预见,TypeScript会通过不断吸收最新语言特性,为大规模JavaScript应用提供可靠的类型系统与开发体验,其在前端社区的重要地位还将持续增强。\n"
     ]
    }
   ],
   "source": [
    "# 类似 openai gpt 接口请求格式，指定 conversation\n",
    "# conversation_uuid 可参考「获取全部会话」接口\n",
    "import openai\n",
    "openai.api_base = 'https://openai.aihey.cc/claude/{}/{}/v1'.format(org_uuid, conversation_uuid)\n",
    "openai.api_key = sessionKey\n",
    "\n",
    "completion = openai.ChatCompletion.create(model=\"gpt-3.5-turbo\", \n",
    "                                          messages=[{\"role\": \"user\", \"content\": \"你知道 typescript 历史么，请用 600 字描述\"}])\n",
    "print(completion.choices[0].message.content)"
   ]
  }
 ],
 "metadata": {
  "kernelspec": {
   "display_name": "Python 3",
   "language": "python",
   "name": "python3"
  },
  "language_info": {
   "codemirror_mode": {
    "name": "ipython",
    "version": 3
   },
   "file_extension": ".py",
   "mimetype": "text/x-python",
   "name": "python",
   "nbconvert_exporter": "python",
   "pygments_lexer": "ipython3",
   "version": "3.9.17"
  },
  "orig_nbformat": 4
 },
 "nbformat": 4,
 "nbformat_minor": 2
}
